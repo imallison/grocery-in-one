{
 "cells": [
  {
   "cell_type": "code",
   "execution_count": 207,
   "id": "bf59a885-3e92-48bb-ba22-dad7dac4431a",
   "metadata": {},
   "outputs": [],
   "source": [
    "import pandas as pd\n",
    "\n",
    "from sklearn.feature_extraction.text import CountVectorizer\n",
    "from sklearn.feature_extraction.text import TfidfVectorizer\n",
    "\n",
    "from sklearn.metrics.pairwise import cosine_similarity"
   ]
  },
  {
   "cell_type": "code",
   "execution_count": 208,
   "id": "ce5c4c6c-77c8-4dbd-af8d-63f362d1bf30",
   "metadata": {},
   "outputs": [],
   "source": [
    "def load_recipes():\n",
    "    recipes_df = pd.read_csv('RAW_recipes.csv', on_bad_lines = 'skip')\n",
    "    return recipes_df"
   ]
  },
  {
   "cell_type": "markdown",
   "id": "fa738b4b-4ebf-47cc-af34-05caafabc839",
   "metadata": {},
   "source": [
    "# load_recipes\n",
    "- Load the data from the file\n",
    "- Skip bad lines"
   ]
  },
  {
   "cell_type": "code",
   "execution_count": 209,
   "id": "7a381819-ca80-4010-8147-3bc543dbdd4b",
   "metadata": {},
   "outputs": [],
   "source": [
    "def preprocess_data(recipes_df):\n",
    "    def token_func(x):\n",
    "        processed_ingredients = []\n",
    "        ingredients = x.split(', ')\n",
    "        # Split into individual ingredients\n",
    "        \n",
    "        for ingredient in ingredients:\n",
    "            processed_ingredients.append(normalize_ingredient(ingredient.strip().lower()))\n",
    "            # Add processed ingredient to list\n",
    "        return processed_ingredients\n",
    "\n",
    "    vectorizer = CountVectorizer(tokenizer = token_func)\n",
    "    # Use CountVectorizer with the custom token\n",
    "\n",
    "        \n",
    "    ingredient_matrix = vectorizer.fit_transform(recipes_df['ingredients'])\n",
    "    # Transform the 'ingredients' col into a matrix\n",
    "    # col is ingredient, row is recipe\n",
    "\n",
    "    return ingredient_matrix, vectorizer"
   ]
  },
  {
   "cell_type": "markdown",
   "id": "71fbb45c-4229-421c-9618-381a2c279b57",
   "metadata": {},
   "source": [
    "# preprocess_data\n",
    "- token_func breaks down each recipe into smaller parts\n",
    "    - Helps with dividing up the list of ingredientse and later compare the inventory with each recipe\n",
    "- Convert the text into tokens for handling"
   ]
  },
  {
   "cell_type": "code",
   "execution_count": 210,
   "id": "b0ec67c1-becc-4a2e-8f1f-5cc9aa63646c",
   "metadata": {},
   "outputs": [],
   "source": [
    "def get_inventory():\n",
    "    ingredients = input(\"Enter the ingredients you have. Ensure to put commas after each one. Example: eggs, flour, tomatoes.\\n\")\n",
    "    \n",
    "    inventory_of_ingredients = [item.strip().lower() for item in ingredients.split(',')]\n",
    "\n",
    "    return inventory_of_ingredients"
   ]
  },
  {
   "cell_type": "markdown",
   "id": "9d941be9-5b7a-4293-9ed6-cc73b7d4bc8b",
   "metadata": {},
   "source": [
    "# get_inventory\n",
    "- Strip spaces\n",
    "- Lowercase ingredients\n",
    "- Split into a list"
   ]
  },
  {
   "cell_type": "code",
   "execution_count": 211,
   "id": "654eed48-0502-433f-871f-575895d489d9",
   "metadata": {},
   "outputs": [],
   "source": [
    "def match_inventory_to_recipes(inventory, recipes_df):\n",
    "    ingredient_matrix, vectorizer = preprocess_data(recipes_df)\n",
    "    # vectorizer = preprocess_data(recipes_df)\n",
    "    \n",
    "    user_vector = vectorizer.transform([' '.join(inventory)])\n",
    "    similarity_scores = cosine_similarity(user_vector, ingredient_matrix)\n",
    "    \n",
    "    # Check if there's matches\n",
    "    # If not, provide a different type of recommendation\n",
    "    if not similarity_scores.nonzero()[1].size:\n",
    "        print(\"No exact matches found in dataset. Below are the recipes with partial matches.\")\n",
    "        # Recommends partial matches\n",
    "        recommended_recipes = recipes_df.sample(10)\n",
    "    else:\n",
    "        top_indices = similarity_scores.argsort()[0][-10:][::-1]\n",
    "        # Top of the recipes\n",
    "        \n",
    "        recommended_recipes = recipes_df.iloc[top_indices]\n",
    "    return recommended_recipes\n",
    "\n",
    "\n",
    "def display_recommendations(recommended_recipes):\n",
    "    if recommended_recipes.empty:\n",
    "        print(\"There are no recipes matching your inventory.\")\n",
    "    else:\n",
    "        print(\"Based on your inventory, here are some recommended recipes:\")\n",
    "        for index, row in recommended_recipes.iterrows():\n",
    "            print(f\"- {row['name']}\")"
   ]
  },
  {
   "cell_type": "markdown",
   "id": "9be3063a-8d54-4c24-9f5b-ed8060f9f59f",
   "metadata": {},
   "source": [
    "# match_inventory_to_recipes\n",
    "- Change inventory into a vector\n",
    "- Cosine similarity for vector and matrix\n",
    "- Check for matches and provide partial matches if needed"
   ]
  },
  {
   "cell_type": "code",
   "execution_count": 212,
   "id": "cbd80fb9-6c50-471d-bf1f-d57fc724ac3a",
   "metadata": {
    "scrolled": true
   },
   "outputs": [
    {
     "name": "stdin",
     "output_type": "stream",
     "text": [
      "Enter the ingredients you have. Ensure to put commas after each one. Example: eggs, flour, tomatoes.\n",
      " tomatoes\n"
     ]
    },
    {
     "name": "stderr",
     "output_type": "stream",
     "text": [
      "/opt/anaconda/lib/python3.8/site-packages/sklearn/feature_extraction/text.py:525: UserWarning: The parameter 'token_pattern' will not be used since 'tokenizer' is not None'\n",
      "  warnings.warn(\n"
     ]
    },
    {
     "name": "stdout",
     "output_type": "stream",
     "text": [
      "Based on your inventory, here are some recommended recipes:\n",
      "- hot italian tomato and cream cheese dip\n",
      "- dump soup\n",
      "- taquitos casserole\n",
      "- a can of this and a can of that crock pot chili\n",
      "- carne machaca\n",
      "- balsamic tomato aspic\n",
      "- slow cooked hearty chili\n",
      "- unique chicken tacos\n",
      "- ziti baked with spinach  tomatoes  and smoked gouda\n",
      "- chipotle bean dip\n"
     ]
    }
   ],
   "source": [
    "# Main\n",
    "recipes_df = load_recipes()\n",
    "# Load recipes from data\n",
    "\n",
    "user_inventory = get_inventory()\n",
    "# Get user input for ingredients\n",
    "\n",
    "recommended_recipes = match_inventory_to_recipes(user_inventory, recipes_df)\n",
    "# Find the matching recipes\n",
    "\n",
    "display_recommendations(recommended_recipes)\n",
    "# Display recommendations\n",
    "\n",
    "# Testing\n",
    "# print(recipes_df.columns)\n",
    "# print(recipes_df.head())"
   ]
  }
 ],
 "metadata": {
  "kernelspec": {
   "display_name": "Python 3 (ipykernel)",
   "language": "python",
   "name": "python3"
  },
  "language_info": {
   "codemirror_mode": {
    "name": "ipython",
    "version": 3
   },
   "file_extension": ".py",
   "mimetype": "text/x-python",
   "name": "python",
   "nbconvert_exporter": "python",
   "pygments_lexer": "ipython3",
   "version": "3.8.18"
  }
 },
 "nbformat": 4,
 "nbformat_minor": 5
}
